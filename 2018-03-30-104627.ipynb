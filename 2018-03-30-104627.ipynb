{
 "cells": [
  {
   "cell_type": "code",
   "execution_count": 2,
   "metadata": {
    "collapsed": false
   },
   "outputs": [
    {
     "name": "stdout",
     "output_type": "stream",
     "text": [
      "3.16227766017\n"
     ]
    }
   ],
   "source": [
    "import math\n",
    "x=10\n",
    "print math.sqrt(x)\n"
   ]
  },
  {
   "cell_type": "code",
   "execution_count": 9,
   "metadata": {
    "collapsed": false
   },
   "outputs": [
    {
     "name": "stdout",
     "output_type": "stream",
     "text": [
      "hello\n",
      "hello\n",
      "HELLO\n",
      "5\n"
     ]
    }
   ],
   "source": [
    "#sting and index\n",
    "a=\"hello\"\n",
    "print a\n",
    "print a.lower()\n",
    "print a.upper()\n",
    "print len(a)"
   ]
  },
  {
   "cell_type": "code",
   "execution_count": 14,
   "metadata": {
    "collapsed": false
   },
   "outputs": [
    {
     "name": "stdout",
     "output_type": "stream",
     "text": [
      "the value of pi is 3.14\n",
      "the value of pi is3.14\n"
     ]
    }
   ],
   "source": [
    "#declare a pi value\n",
    "pi=3.14\n",
    "print \"the value of pi is\",pi\n",
    "print\"the value of pi is\"  +str(pi)"
   ]
  },
  {
   "cell_type": "code",
   "execution_count": 17,
   "metadata": {
    "collapsed": false
   },
   "outputs": [
    {
     "ename": "SyntaxError",
     "evalue": "invalid syntax (<ipython-input-17-2552c96747a5>, line 3)",
     "output_type": "error",
     "traceback": [
      "\u001b[0;36m  File \u001b[0;32m\"<ipython-input-17-2552c96747a5>\"\u001b[0;36m, line \u001b[0;32m3\u001b[0m\n\u001b[0;31m    print \"i'm from \"+place1+,\"i'm working in\",+place2\u001b[0m\n\u001b[0m                             ^\u001b[0m\n\u001b[0;31mSyntaxError\u001b[0m\u001b[0;31m:\u001b[0m invalid syntax\n"
     ]
    }
   ],
   "source": [
    "place1 =\"coimbatore\"\n",
    "place2 =\"bangalore\"\n",
    "print \"i'm from \"+place1+,\"i'm working in\",+place2"
   ]
  },
  {
   "cell_type": "code",
   "execution_count": 20,
   "metadata": {
    "cocalc": {
     "outputs": {
      "0": {
       "name": "input",
       "opts": {
        "password": false,
        "prompt": "enter your name"
       },
       "output_type": "stream",
       "value": "ganesh"
      },
      "1": {
       "name": "input",
       "opts": {
        "password": false,
        "prompt": "enter your age"
       },
       "output_type": "stream",
       "value": "21"
      },
      "2": {
       "name": "input",
       "opts": {
        "password": false,
        "prompt": "enter you phn.no"
       },
       "output_type": "stream",
       "value": "9809"
      }
     }
    },
    "collapsed": false
   },
   "outputs": [
    {
     "name": "stdout",
     "output_type": "stream",
     "text": "enter your name ganesh"
    },
    {
     "name": "stdout",
     "output_type": "stream",
     "text": "enter your age 21"
    },
    {
     "name": "stdout",
     "output_type": "stream",
     "text": "enter you phn.no 9809"
    }
   ],
   "source": [
    "input1= raw_input (\"enter your name\")\n",
    "input2= raw_input(\"enter your age\")\n",
    "input3= raw_input(\"enter you phn.no\")\n"
   ]
  },
  {
   "cell_type": "code",
   "execution_count": 23,
   "metadata": {
    "collapsed": false
   },
   "outputs": [
    {
     "name": "stdout",
     "output_type": "stream",
     "text": [
      "2018-03-30 05:43:10.944492\n"
     ]
    }
   ],
   "source": [
    "#date time\n",
    "from datetime import datetime\n",
    "now= datetime.now()\n",
    "print  now"
   ]
  },
  {
   "cell_type": "code",
   "execution_count": 33,
   "metadata": {
    "collapsed": false
   },
   "outputs": [
    {
     "ename": "NameError",
     "evalue": "name 'notEqualToTen' is not defined",
     "output_type": "error",
     "traceback": [
      "\u001b[0;31m\u001b[0m",
      "\u001b[0;31mNameError\u001b[0mTraceback (most recent call last)",
      "\u001b[0;32m<ipython-input-33-6b7207b44be7>\u001b[0m in \u001b[0;36m<module>\u001b[0;34m()\u001b[0m\n\u001b[1;32m      7\u001b[0m     \u001b[0;32melse\u001b[0m\u001b[0;34m:\u001b[0m\u001b[0;34m\u001b[0m\u001b[0m\n\u001b[1;32m      8\u001b[0m         \u001b[0;32mreturn\u001b[0m \u001b[0;36m1\u001b[0m\u001b[0;34m\u001b[0m\u001b[0m\n\u001b[0;32m----> 9\u001b[0;31m \u001b[0;32mprint\u001b[0m \u001b[0mnotEqualToTen\u001b[0m\u001b[0;34m(\u001b[0m\u001b[0;36m20\u001b[0m\u001b[0;34m)\u001b[0m\u001b[0;34m\u001b[0m\u001b[0m\n\u001b[0m",
      "\u001b[0;31mNameError\u001b[0m: name 'notEqualToTen' is not defined"
     ]
    }
   ],
   "source": [
    "#not equal to 10\n",
    "def notEqualToten(num):\n",
    "    if num < 10:\n",
    "        return -1\n",
    "    elif num == 10:\n",
    "        return 0 \n",
    "    else:\n",
    "        return 1\n",
    "print notEqualToTen(20)"
   ]
  },
  {
   "cell_type": "code",
   "execution_count": 36,
   "metadata": {
    "collapsed": false
   },
   "outputs": [
    {
     "name": "stdout",
     "output_type": "stream",
     "text": [
      "10 -10\n",
      "None\n"
     ]
    }
   ],
   "source": [
    "#big-and small number using argument\n",
    "def  BigAndSmall (*arg):\n",
    "    print max(arg),min(arg)\n",
    "print BigAndSmall(-10,-5,0,10)"
   ]
  },
  {
   "cell_type": "code",
   "execution_count": 46,
   "metadata": {
    "collapsed": false
   },
   "outputs": [
    {
     "name": "stdout",
     "output_type": "stream",
     "text": [
      "deer\n",
      "['lion', 'tiger', 'deer', 'dog', 'cat']\n",
      "['lion', 'dog', 'dog', 'tiger', 'deer', 'dog', 'cat']\n"
     ]
    }
   ],
   "source": [
    "#dictionary\n",
    "list = [\"lion\",\"tiger\",\"deer\",\"dog\",\"cat\"]\n",
    "print list[2]\n",
    "print list\n",
    "tiger_Index=list.index(\"tiger\")\n",
    "list.insert(tiger_Index,\"dog\")\n",
    "a=list.index(\"tiger\")\n",
    "list.insert(a,\"dog\")\n",
    "\n",
    "print list"
   ]
  },
  {
   "cell_type": "code",
   "execution_count": 47,
   "metadata": {
    "collapsed": false
   },
   "outputs": [
    {
     "name": "stdout",
     "output_type": "stream",
     "text": [
      "ganesh\n"
     ]
    }
   ],
   "source": [
    "#dic\n",
    "name={ 101:\"ganesh\", 102:\"sunder\", 103:\"pandi\", 104:\"shibu\"}\n",
    "print name[101]"
   ]
  },
  {
   "cell_type": "code",
   "execution_count": 50,
   "metadata": {
    "collapsed": false
   },
   "outputs": [
    {
     "name": "stdout",
     "output_type": "stream",
     "text": [
      "[1, 2, 3, 4, 5, 6]\n"
     ]
    }
   ],
   "source": [
    "num=[1,2,3,4,5]\n",
    "\n",
    "num.append(6)\n",
    "\n",
    "print num"
   ]
  },
  {
   "cell_type": "code",
   "execution_count": 55,
   "metadata": {
    "collapsed": false
   },
   "outputs": [
    {
     "name": "stdout",
     "output_type": "stream",
     "text": [
      "{'age': 21, 'name': 'Ganesh', 'email': 'amirthaganesh12@gmail.com'}\n",
      "[('age', 21), ('name', 'Ganesh'), ('email', 'amirthaganesh12@gmail.com')]\n",
      "['age', 'name', 'email']\n",
      "[21, 'Ganesh', 'amirthaganesh12@gmail.com']\n"
     ]
    }
   ],
   "source": [
    "myDate={\n",
    "    \"name\" : \"Ganesh\",\n",
    "    \"age\" : 21,\n",
    "    \"email\" : \"amirthaganesh12@gmail.com\"\n",
    "}\n",
    "print myDate\n",
    "print myDate.items() #items\n",
    "print myDate.keys() #keys\n",
    "print myDate.values()#values"
   ]
  },
  {
   "cell_type": "code",
   "execution_count": 0,
   "metadata": {
    "collapsed": false
   },
   "outputs": [
   ],
   "source": [
   ]
  }
 ],
 "metadata": {
  "kernelspec": {
   "display_name": "Python 2 (Ubuntu Linux)",
   "language": "python",
   "name": "python2-ubuntu"
  },
  "language_info": {
   "codemirror_mode": {
    "name": "ipython",
    "version": 2
   },
   "file_extension": ".py",
   "mimetype": "text/x-python",
   "name": "python",
   "nbconvert_exporter": "python",
   "pygments_lexer": "ipython2",
   "version": "2.7.12"
  }
 },
 "nbformat": 4,
 "nbformat_minor": 0
}